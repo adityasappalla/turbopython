{
 "cells": [
  {
   "cell_type": "markdown",
   "metadata": {},
   "source": [
    "DATA FOR THE PUMP ARE CALCULATED FOR A SINGLE STAGE. MULTISTAGE DATA CAN BE CALCULATED FURTHER."
   ]
  },
  {
   "cell_type": "markdown",
   "metadata": {},
   "source": [
    "NOTE:<br>\n",
    "1 metre = 3.281 feet <br>\n",
    "1 litre = 0.001 cu.mts <br>\n",
    "1 atm = 101325 Pa = 1.0133 bar <br>\n",
    "1 kPa = 1000 Pa <br>\n",
    "1 bar = 100 kPa = 0.1 MPa"
   ]
  },
  {
   "cell_type": "markdown",
   "metadata": {},
   "source": [
    "VAPOUR PRESSURE DATA OF WATER FOR INTERPOLATION IN THE RANGE 0 TO 100 DEGREE CENTIGRADE: <br><br>\n",
    "Temperature (degree C) - Vapour Pressure (kPa) <br><br>\n",
    "0 - 0.611 <br>\n",
    "0.01 - 0.612 (This is the triple point of water) <br>\n",
    "05 - 0.873 <br>\n",
    "10 - 1.228 <br>\n",
    "15 - 1.705 <br>\n",
    "20 - 2.339 <br>\n",
    "25 - 3.169 <br>\n",
    "30 - 4.245 <br>\n",
    "35 - 5.627 <br>\n",
    "40 - 7.381 <br>\n",
    "45 - 9.590 <br>\n",
    "50 - 12.345 <br>\n",
    "55 - 15.752 <br>\n",
    "60 - 19.933 <br>\n",
    "65 - 25.024 <br>\n",
    "70 - 31.177 <br>\n",
    "75 - 38.565 <br>\n",
    "80 - 47.375 <br>\n",
    "85 - 57.817 <br>\n",
    "90 - 70.120 <br>\n",
    "95 - 84.532 <br>\n",
    "100 - 101.325"
   ]
  },
  {
   "cell_type": "code",
   "execution_count": 2,
   "metadata": {},
   "outputs": [],
   "source": [
    "import math # Onboarding mathematical functions\n",
    "from math import pi"
   ]
  },
  {
   "cell_type": "code",
   "execution_count": null,
   "metadata": {},
   "outputs": [
    {
     "name": "stdout",
     "output_type": "stream",
     "text": [
      "Enter the molecular weight of the fluid in kg/kmol: 18\n",
      "Enter the pump rotation speed, in rpm: 1000\n",
      "Enter the pump inlet diameter, in cm: 18\n",
      "Enter the pump outlet diameter, in cm: 35\n",
      "Enter the impeller width at the outlet, in cm: 5\n",
      "Enter the volume of fluid handled, in litres/sec: 300\n",
      "Enter the asbolute pressure at the pump inlet, in kPa: 100\n",
      "Enter the inlet temperature of the fluid, in degree C: 20\n",
      "Enter the vapour pressure of the fluid at the inlet temperature, in kPa: 2.339\n",
      "Is the pump head specified?: n\n",
      "Enter the specific speed of the pump: 25\n"
     ]
    }
   ],
   "source": [
    "# INLET FLUID DATA\n",
    "g = 9.80665 # Acceleration due to gravity in m/s^2\n",
    "Ru = 8314.463 # Universal gas constant in J/kmol-K\n",
    "Mw = float(input('Enter the molecular weight of the fluid in kg/kmol: '))\n",
    "R = Ru/Mw\n",
    "N = float(input('Enter the pump rotation speed, in rpm: '))\n",
    "d1 = float(input('Enter the pump inlet diameter, in cm: '))\n",
    "d2 = float(input('Enter the pump outlet diameter, in cm: '))\n",
    "h2 = float(input('Enter the impeller width at the outlet, in cm: '))\n",
    "q = float(input('Enter the volume of fluid handled, in litres/sec: '))\n",
    "Q = 0.001*q\n",
    "u1 = (pi*d1*N)/6000\n",
    "u2 = (pi*d2*N)/6000\n",
    "p1 = float(input('Enter the asbolute pressure at the pump inlet, in kPa: '))\n",
    "t1 = float(input('Enter the inlet temperature of the fluid, in degree C: '))\n",
    "T1 = t1 + 273.15 # Conversion from Centigrade scale to Kelvin scale\n",
    "rho = ((1000*p1)/(R*T1))\n",
    "pv = float(input('Enter the vapour pressure of the fluid at the inlet temperature, in kPa: '))\n",
    "head_check = input('Is the pump head specified?: ').upper()\n",
    "if head_check == 'Y':\n",
    "    Hm = float(input('Enter the head developed by the pump, in metres: '))\n",
    "    Ns = (N*(math.sqrt(Q))/(Hm**0.75))\n",
    "elif head_check == 'N':\n",
    "    Ns = float(input('Enter the specific speed of the pump: '))\n",
    "    Hm = (60*Ns/(N*math.sqrt(Q)))**(4/3)\n",
    "b1d = float(input('Enter the inlet blade angle, in degrees: '))\n",
    "b1 = b1d*pi/180\n",
    "a1d = 90"
   ]
  },
  {
   "cell_type": "code",
   "execution_count": 4,
   "metadata": {},
   "outputs": [],
   "source": [
    "# INLET VELOCITY TRIANGLE\n",
    "c1x = (u1*math.tan(b1))\n",
    "c1 = c1x\n",
    "w1 = math.hypot(c1x,u1)"
   ]
  },
  {
   "cell_type": "code",
   "execution_count": 5,
   "metadata": {},
   "outputs": [
    {
     "name": "stdout",
     "output_type": "stream",
     "text": [
      "Enter the exit blade angle, in degrees: 18\n",
      "Enter the desired mechanical efficiency of the drive, in percentage: 88\n"
     ]
    }
   ],
   "source": [
    "# OUTLET VELOCITY TRIANGLE\n",
    "b2d = float(input('Enter the exit blade angle, in degrees: '))\n",
    "b2 = b2d*pi/180\n",
    "c2x = 10000*Q/(pi*d2*h2)\n",
    "c2u = u2 - (c2x/math.tan(b2))\n",
    "c2 = math.hypot(c2x,c2u)\n",
    "a2 = math.atan(c2x/c2u)\n",
    "a2d = a2*180/pi\n",
    "nmano = ((g*Hm)/(u2*c2u))*100\n",
    "nmech = float(input('Enter the desired mechanical efficiency of the drive, in percentage: '))\n",
    "noverall = (nmano*nmech)*0.01\n",
    "Pshaft = ((100*rho*g*Q*Hm)/(noverall))\n",
    "Torque = 60000*Pshaft/(2*pi*N)"
   ]
  },
  {
   "cell_type": "code",
   "execution_count": 6,
   "metadata": {},
   "outputs": [],
   "source": [
    "# EVALUATING FOR CAVITATION\n",
    "sigma_critical = 0.00103*((Ns)**4/3)\n",
    "NPSHa = (((p1-pv))+(c1**2))/(rho*g)\n",
    "sigma = NPSHa/Hm\n",
    "dp = (((c1**2)-(c2**2)+(u2*c2u))/(2*g))"
   ]
  },
  {
   "cell_type": "code",
   "execution_count": 7,
   "metadata": {},
   "outputs": [
    {
     "name": "stdout",
     "output_type": "stream",
     "text": [
      "Is the pump mult-staged?: Y\n",
      "Is the multi-staging in series or parallel?: P\n",
      "Do you know the number of stages?: N\n",
      "Enter the total volume of fluid handled in multi-staging, in litres/sec: 2000\n"
     ]
    }
   ],
   "source": [
    "# MULTISTAGING OF THE PUMP\n",
    "multistage_check = input('Is the pump mult-staged?: ').upper()\n",
    "if multistage_check == 'Y':\n",
    "    series_parallel_check = input('Is the multi-staging in series or parallel?: ').upper()\n",
    "    if series_parallel_check == 'S':\n",
    "        stage_check = input('Do you know the number of stages?: ').upper()\n",
    "        if stage_check == 'Y':\n",
    "            stages = int(input('Enter the number of stages: '))\n",
    "            Ht = stages*Hm\n",
    "            qt = q\n",
    "        elif stage_check == 'N':\n",
    "            Ht = float(input('Enter the total head developed in multistaging, in metres: '))\n",
    "            stages = Ht/Hm\n",
    "            qt = q\n",
    "    elif series_parallel_check == 'P':\n",
    "        stage_check = input('Do you know the number of stages?: ').upper()\n",
    "        if stage_check == 'Y':\n",
    "            stages = int(input('Enter the number of stages: '))\n",
    "            qt = stages*q\n",
    "            Ht = Hm\n",
    "        elif stage_check == 'N':\n",
    "            qt = float(input('Enter the total volume of fluid handled in multi-staging, in litres/sec: '))\n",
    "            stages = qt/q\n",
    "            Ht = Hm\n",
    "elif multistage_check == 'N':\n",
    "    stages = 1\n",
    "    Ht = Hm\n",
    "    qt = q"
   ]
  },
  {
   "cell_type": "code",
   "execution_count": 9,
   "metadata": {},
   "outputs": [
    {
     "name": "stdout",
     "output_type": "stream",
     "text": [
      "THE FOLLOWING DATA ARE EVALUATED FOR THE GIVEN CENTRIFUGAL PUMP:\n",
      "\n",
      "1. The inlet flow and blade angles are 90 and 22.0 respectively.\n",
      "2. The exit flow and blade angles are 7.2872715400413925 and 18.0 respectively.\n",
      "3. The single stage manometric head of the pump is 0.017777777777777785 metres.\n",
      "4. The single stage pump discharge is 300.0 litres/sec.\n",
      "5. The specific speed of the pump is 40.0.\n",
      "6. The manometric efficiency of the pump is 0.015754540587265577 %.\n",
      "7. The overall efficiency of the pump is 0.01386399571679371 %.\n",
      "8. The power available at the pump shaft is 1547.7716388700892 kW.\n",
      "9. The torque acting on the shaft is 9853.420284144746 N-m\n",
      "10. The NPSHa of the pump is 3.9914704922490425 metres.\n",
      "11. The pressure rise in the impeller is 18.480867514960373 kPa.\n",
      "12. The total head of the 6.666666666666667-stage pump is 0.017777777777777785 metres\n",
      "13. The total discharge of the 6.666666666666667-stage pump is 2000.0 litres/s\n",
      "14. No cavitation in the pump.\n"
     ]
    }
   ],
   "source": [
    "# PRINTING THE RESULTS\n",
    "print('THE FOLLOWING DATA ARE EVALUATED FOR THE GIVEN CENTRIFUGAL PUMP:\\n')\n",
    "print(f'1. The inlet flow and blade angles are {a1d} and {b1d} respectively.')\n",
    "print(f'2. The exit flow and blade angles are {a2d} and {b2d} respectively.')\n",
    "print(f'3. The single stage manometric head of the pump is {Hm} metres.')\n",
    "print(f'4. The single stage pump discharge is {q} litres/sec.')\n",
    "print(f'5. The specific speed of the pump is {Ns}.')\n",
    "print(f'6. The manometric efficiency of the pump is {nmano} %.')\n",
    "print(f'7. The overall efficiency of the pump is {noverall} %.')\n",
    "print(f'8. The power available at the pump shaft is {Pshaft} kW.')\n",
    "print(f'9. The torque acting on the shaft is {Torque} N-m')\n",
    "print(f'10. The NPSHa of the pump is {NPSHa} metres.')\n",
    "print(f'11. The pressure rise in the impeller is {dp} kPa.')\n",
    "print(f'12. The total head of the {stages}-stage pump is {Ht} metres')\n",
    "print(f'13. The total discharge of the {stages}-stage pump is {qt} litres/s')\n",
    "if sigma < sigma_critical:\n",
    "    print('14. No cavitation in the pump.')\n",
    "elif sigma == sigma_critical:\n",
    "    print('14. Cavitation just begins. Onset of bubbling.')\n",
    "elif sigma > sigma_critical:\n",
    "    print('14. Warning!!! Cavitation has occurred. Blade pitting and erosion taking place.')"
   ]
  },
  {
   "cell_type": "code",
   "execution_count": null,
   "metadata": {},
   "outputs": [],
   "source": []
  }
 ],
 "metadata": {
  "kernelspec": {
   "display_name": "Python 3",
   "language": "python",
   "name": "python3"
  },
  "language_info": {
   "codemirror_mode": {
    "name": "ipython",
    "version": 3
   },
   "file_extension": ".py",
   "mimetype": "text/x-python",
   "name": "python",
   "nbconvert_exporter": "python",
   "pygments_lexer": "ipython3",
   "version": "3.7.3"
  }
 },
 "nbformat": 4,
 "nbformat_minor": 2
}
