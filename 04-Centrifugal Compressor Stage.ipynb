{
 "cells": [
  {
   "cell_type": "code",
   "execution_count": 2,
   "metadata": {},
   "outputs": [],
   "source": [
    "import math # Onboarding mathematical functions\n",
    "from math import pi"
   ]
  },
  {
   "cell_type": "code",
   "execution_count": 3,
   "metadata": {},
   "outputs": [
    {
     "name": "stdout",
     "output_type": "stream",
     "text": [
      "Enter the fluid pressure at the inlet of the compressor, in bar: 1.013\n",
      "Enter the fluid temperature at the inlet of the compressor in degree C: 20\n",
      "Are the hub and tip diameters at the inlet given?: y\n",
      "Enter the hub diameter at the compressor inlet, in cm: 12\n",
      "Enter the tip diameter at the compressor inlet, in cm: 24\n",
      "Enter the mean wheel diameter at the compressor outlet, in cm: 48\n",
      "Enter the rotational speed of the compressor, in rpm: 17000\n",
      "Enter the molecular weight of the fluid, in kg/kmol: 28.9658\n",
      "Enter the atomicity of the gas: 2\n",
      "Is the mass flow rate through the compressor available?: y\n",
      "Enter the mass flow rate of the fluid to the compressor, in kg/s: 10\n",
      "Enter the stage efficiency of the compressor, in percentage: 80\n"
     ]
    }
   ],
   "source": [
    "# FLUID INLET DATA\n",
    "p1 = float(input('Enter the fluid pressure at the inlet of the compressor, in bar: '))\n",
    "t1 = float(input('Enter the fluid temperature at the inlet of the compressor in degree C: '))\n",
    "T1 = t1 + 273.15 # Conversion from Centigrade scale to Kelvin scale\n",
    "dia_check = input('Are the hub and tip diameters at the inlet given?: ').upper()\n",
    "if dia_check == 'Y':\n",
    "    dh = float(input('Enter the hub diameter at the compressor inlet, in cm: '))\n",
    "    dt = float(input('Enter the tip diameter at the compressor inlet, in cm: '))\n",
    "    d1 = 0.5*(dh+dt)\n",
    "    h1 = 0.5*(dt-dh)\n",
    "elif dia_check == 'N':\n",
    "    d1 = float(input('Enter the mean wheel diameter at the compressor inlet, in cm: '))\n",
    "    h1 = float(input('Enter the blade thickness at the compressor inlet, in cm:'))\n",
    "d2 = float(input('Enter the mean wheel diameter at the compressor outlet, in cm: '))\n",
    "N = float(input('Enter the rotational speed of the compressor, in rpm: '))\n",
    "u1 = (pi*d1*N/6000)\n",
    "u2 = (pi*d2*N/6000)\n",
    "Ru = 8.314463 # Universal gas constant in kJ/kmol-K\n",
    "Mw = float(input('Enter the molecular weight of the fluid, in kg/kmol: '))\n",
    "R = Ru/Mw\n",
    "atom_check = input('Enter the atomicity of the gas: ')\n",
    "if atom_check == '1':\n",
    "    y = 5/3\n",
    "elif atom_check == '2':\n",
    "    y = 1.4\n",
    "elif atom_check == '3':\n",
    "    y = 4/3\n",
    "cpg = ((y*R)/(y-1)) # Specific heat at constant pressure, in kJ/kg-K\n",
    "rho = ((p1*100)/(R*T1))\n",
    "mass_flow_check = input('Is the mass flow rate through the compressor available?: ').upper() # Constant mass flow taken\n",
    "if mass_flow_check == 'Y':\n",
    "    m = float(input('Enter the mass flow rate of the fluid to the compressor, in kg/s: '))\n",
    "elif mass_flow_check == 'N':\n",
    "    v = float(input('Enter the volume of free air/fluid handled/delivered by the compressor, in m^3/s: '))\n",
    "    m = rho*v\n",
    "nstage = float(input('Enter the stage efficiency of the compressor, in percentage: '))\n",
    "z = (y-1)/y\n",
    "x = y/(y-1)"
   ]
  },
  {
   "cell_type": "code",
   "execution_count": 4,
   "metadata": {},
   "outputs": [
    {
     "name": "stdout",
     "output_type": "stream",
     "text": [
      "Are there no inlet guide vanes i.e. IGVs?: y\n"
     ]
    }
   ],
   "source": [
    "# CALCULATION OF INLET PARAMETERS\n",
    "# Evaluating the fluid velocities and angles at the compressor inlet\n",
    "igv_check = input('Are there no inlet guide vanes i.e. IGVs?: ').upper()\n",
    "if igv_check == 'Y':\n",
    "    a1d = 90\n",
    "    a1 = pi/2\n",
    "    c1u = 0\n",
    "    c1x = 10000*m/(rho*pi*d1*h1)\n",
    "    c1 = c1x\n",
    "    w1 = math.hypot(c1x,u1)\n",
    "    b1 = math.atan((c1x/u1))\n",
    "    b1d = b1*180/pi\n",
    "elif igv_check == 'N':\n",
    "    # Checking if the flow through the inducer blades is axial or not\n",
    "    ax_inducer_check = input('Is the flow through the inducer section axial?: ').upper()\n",
    "    if ax_inducer_check == 'Y':\n",
    "        c1x = 10000*m/(rho*pi*d1*h1)\n",
    "        c1u = u1\n",
    "        w1 = c1x\n",
    "        c1 = math.hypot(u1,c1x)\n",
    "        b1d = 90\n",
    "        a1 = math.atan((c1x/u1))\n",
    "        a1d =  a1*180/pi\n",
    "    elif ax_inducer_check == 'N':\n",
    "        b1d = float(input('Enter the blade angle at the compressor inlet, in degrees: '))\n",
    "        b1 = b1d*pi/180\n",
    "        a1d = float(input('Enter the flow angle at the compressor inlet, in degrees: '))\n",
    "        a1 = a1d*pi/180\n",
    "        c1x = 10000*m/(rho*pi*d1*h1)\n",
    "        c1u = (c1x*(math.tan(a1)))\n",
    "        c1 = math.hypot(c1x,c1u)\n",
    "        w1 = (c1x*(math.sin(b1)))\n",
    "\n",
    "# Evaluating stagnation properties at the compressor inlet\n",
    "T01 = T1 + ((c1**2)/(2*cpg))\n",
    "p01 = (p1*100) + ((rho*(c1**2))/2000)"
   ]
  },
  {
   "cell_type": "code",
   "execution_count": 5,
   "metadata": {},
   "outputs": [
    {
     "name": "stdout",
     "output_type": "stream",
     "text": [
      "Enter the power input factor, between 1.02 & 1.05: 1.037\n",
      "Is the power input to the compressor available?: n\n",
      "Is the exit of the compressor radial?: y\n"
     ]
    }
   ],
   "source": [
    "# COMPRESSOR OUTLET CONDITIONS\n",
    "pif = float(input('Enter the power input factor, between 1.02 & 1.05: ')) \n",
    "power_check = input('Is the power input to the compressor available?: ').upper()\n",
    "if power_check == 'Y':\n",
    "    Pc = float(input('Enter the power input to the compressor, in kW: '))\n",
    "    Wc = ((1000*Pc)/(m*pif)) # Evaluating Euler's work, in kJ/kg\n",
    "    rad_exit_check = input('Is the exit of the compressor radial?: ').upper()\n",
    "    if rad_exit_check == 'Y':\n",
    "        c2u = u2\n",
    "        b2d = 90\n",
    "        c2x = c1x # Assumption that flow/axial velocity remains constant\n",
    "        phi2 = c2x/u2 # Flow coefficient at the outlet\n",
    "        a2 = math.atan(phi2)\n",
    "        a2d = a2*180/pi\n",
    "        psi = deg_reac = 0.5\n",
    "    elif rad_exit_check == 'N':\n",
    "        c2u = (Wc+(u1*c1u))/u2\n",
    "        b2d = float(input('Enter the blade angle at the compressor exit, in degrees: '))\n",
    "        b2 = b2d*pi/180\n",
    "        c1x = ((u2-c2u)*(math.tan(b2)))\n",
    "        c2 = math.hypot(c2x,c2u)\n",
    "        phi2 = c2x/u2 \n",
    "        deg_reac = 0.5 + (0.5*phi2/(math.tan(b2)))\n",
    "        psi = 2*(1-deg_reac) # Pressure coefficient\n",
    "elif power_check == 'N':\n",
    "    rad_exit_check = input('Is the exit of the compressor radial?: ').upper()\n",
    "    if rad_exit_check == 'Y':\n",
    "        c2u = u2\n",
    "        b2d = 90\n",
    "        c2x = c1x # Assumption that flow/axial velocity remains constant\n",
    "        phi2 = c2x/u2 # Flow coefficient at the outlet\n",
    "        a2 = math.atan(phi2)\n",
    "        a2d = a2*180/pi\n",
    "        psi = 1\n",
    "        c2 = math.hypot(c2x,c2u)\n",
    "        deg_reac = 0.5\n",
    "        h2 = h1*(d1/d2)*(c1x/c2x)\n",
    "        Wc = ((u2*c2u)-(u1*c1u))\n",
    "        Pc = (m*pif*Wc)*0.001\n",
    "    elif rad_exit_check == 'N':\n",
    "        deg_reac_check = input('Does the user know the degree of reaction?: ').upper()\n",
    "        if deg_reac_check == 'Y':\n",
    "            deg_reac = float(input('Enter the degree of reaction: '))\n",
    "            b2d = float(input('Enter the blade angle at the compressor exit, in degrees: '))\n",
    "            b2 = b2d*pi/180\n",
    "            phi2 = ((2*deg_reac)-1)*(math.tan(b2))\n",
    "            c2x = u2*phi2\n",
    "            w2 = (c2x*(math.sin(b2)))\n",
    "            c2u = u2 - (c2x/(math.tan(b2)))\n",
    "            c2 = math.hypot(c2u,c2x)      \n",
    "            a2 = math.atan((c2x/c2u))\n",
    "            a2d = a2*180/pi\n",
    "            psi = 2*(1-deg_reac)\n",
    "            h2 = h1*(d1/d2)*(c1x/c2x)\n",
    "            Wc = ((u2*c2u)-(u1*c1u))\n",
    "            Pc = (m*pif*Wc)*0.001\n",
    "        elif deg_reac_check == 'N':\n",
    "            phi2 = float(input('Enter the design flow coefficient at the compressor exit: '))\n",
    "            c2x = u2*phi2\n",
    "            w2 = (c2x*(math.sin(b2)))\n",
    "            c2u = u2 - (c2x/math.tan(b2))\n",
    "            c2 = math.hypot(c2u,c2x)      \n",
    "            a2 = math.atan((c2x/c2u))\n",
    "            psi = 1 - (phi2/(math.tan(b2)))\n",
    "            deg_reac = 1 - (0.5*psi)\n",
    "            h2 = h1*(d1/d2)*(c1x/c2x)\n",
    "            Wc = ((u2*c2u)-(u1*c1u))\n",
    "            Pc = (m*pif*Wc)*0.001"
   ]
  },
  {
   "cell_type": "code",
   "execution_count": 14,
   "metadata": {},
   "outputs": [],
   "source": [
    "# EVALUATING OTHER PARAMETERS\n",
    "slip = c2u/u2\n",
    "rp0 = (1 + ((nstage*psi*u2*u2)/(1000*cpg*T01)))**x"
   ]
  },
  {
   "cell_type": "code",
   "execution_count": 20,
   "metadata": {},
   "outputs": [
    {
     "name": "stdout",
     "output_type": "stream",
     "text": [
      "THE FOLLOWING ARE THE RESULTS OF THE SINGLE STAGE CENTRIFUGAL COMPRESSOR CALCULATIONS\n",
      "\n",
      "1. The inlet flow and blade angles of the compressor are 90 & 56.79797952374101 degrees respectively.\n",
      "2. The outlet flow and blade angles of the compressor are 29.81339738551269 & 90 degrees respectively.\n",
      "3. The flow coefficient at the outlet of the compressor is 0.5730159637760026\n",
      "4. The pressure coefficient of the compressor is 1\n",
      "5. The pressure ratio of the compressor is 3.967615044614044\n",
      "6. The power input to the compressor is 1893.0248651364307 kW\n",
      "7. The degree of reaction of the compressor stage is 0.5\n",
      "8. Radial blading. Degree of reaction is 0.5\n",
      "9. The slip factor is 1.0\n",
      "10. The blade thickness at the outlet is 2.25 cm\n"
     ]
    }
   ],
   "source": [
    "# PRINTING THE RESULTS\n",
    "print('THE FOLLOWING ARE THE RESULTS OF THE SINGLE STAGE CENTRIFUGAL COMPRESSOR CALCULATIONS\\n')\n",
    "print(f'1. The inlet flow and blade angles of the compressor are {a1d} & {b1d} degrees respectively.')\n",
    "print(f'2. The outlet flow and blade angles of the compressor are {a2d} & {b2d} degrees respectively.')\n",
    "print(f'3. The flow coefficient at the outlet of the compressor is {phi2}')\n",
    "print(f'4. The pressure coefficient of the compressor is {psi}')\n",
    "print(f'5. The pressure ratio of the compressor is {rp0}')\n",
    "print(f'6. The power input to the compressor is {Pc} kW')\n",
    "print(f'7. The degree of reaction of the compressor stage is {deg_reac}')\n",
    "if slip == 1:\n",
    "    print(f'8. Radial blading. Degree of reaction is {deg_reac}')\n",
    "elif slip < 1:\n",
    "    print(f'8. Backward curved blades. Degree of reaction is {deg_reac}')\n",
    "elif slip > 1:\n",
    "    print('Forward curved vanes.')\n",
    "print(f'9. The slip factor is {slip}')\n",
    "print(f'10. The blade thickness at the outlet is {h2} cm')"
   ]
  },
  {
   "cell_type": "code",
   "execution_count": null,
   "metadata": {},
   "outputs": [],
   "source": []
  }
 ],
 "metadata": {
  "kernelspec": {
   "display_name": "Python 3",
   "language": "python",
   "name": "python3"
  },
  "language_info": {
   "codemirror_mode": {
    "name": "ipython",
    "version": 3
   },
   "file_extension": ".py",
   "mimetype": "text/x-python",
   "name": "python",
   "nbconvert_exporter": "python",
   "pygments_lexer": "ipython3",
   "version": "3.7.3"
  }
 },
 "nbformat": 4,
 "nbformat_minor": 2
}
