{
 "cells": [
  {
   "cell_type": "markdown",
   "metadata": {},
   "source": [
    "THIS IS A CODE ON SINGLE STAGE AXIAL TURBINE VELOCITY TRIANGLES. ALL TRIGONOMETRIC RATIOS ARE CALCULATED BY THE COMPILER IN RADIANS. OTHER VALUES ARE IN SI UNITS. INPUTS HAVE TO BE GIVEN WITH PRIOR KNOWLEDGE OF MACHINE PROPERTY RANGES."
   ]
  },
  {
   "cell_type": "code",
   "execution_count": 1,
   "metadata": {},
   "outputs": [],
   "source": [
    "import math # Onboarding mathematical functions for calculations"
   ]
  },
  {
   "cell_type": "code",
   "execution_count": 2,
   "metadata": {},
   "outputs": [
    {
     "name": "stdout",
     "output_type": "stream",
     "text": [
      "Enter the fluid inlet pressure, in bar: 1\n",
      "Enter the fluid inlet temperature, in degree C: 27\n",
      "Enter the rotational speed, in rpm: 5000\n",
      "Enter the flow inlet angle, in degrees: 22\n",
      "Enter the blade inlet angle, in degrees: 30\n",
      "Enter the blade mean dia, in cm: 50\n",
      "Enter the ratio of specific heats/adiabatic index: 1.4\n",
      "Enter the molecular weight of the gas, in kg/kmol: 28.97\n"
     ]
    }
   ],
   "source": [
    "# INLET FLOW AND THERMO CONDITIONS\n",
    "import math\n",
    "from math import pi\n",
    "p1 = float(input('Enter the fluid inlet pressure, in bar: '))\n",
    "t1 = float(input('Enter the fluid inlet temperature, in degree C: '))\n",
    "T1 = t1 + 273.15 # Conversion from Centigrade scale to Kelvin scale\n",
    "N = float(input('Enter the rotational speed, in rpm: '))\n",
    "a1d = float(input('Enter the flow inlet angle, in degrees: '))\n",
    "b1d = float(input('Enter the blade inlet angle, in degrees: '))\n",
    "a1 = a1d*pi/180\n",
    "b1 = b1d*pi/180\n",
    "D = float(input('Enter the blade mean dia, in cm: '))\n",
    "u = (pi*D*N)/6000 # Blade velocity\n",
    "y = float(input('Enter the ratio of specific heats/adiabatic index: '))\n",
    "Ru = 8.314463 # Universal gas constant in kJ/kmol-K\n",
    "Mg = float(input('Enter the molecular weight of the gas, in kg/kmol: '))\n",
    "R = Ru/Mg\n",
    "rho = ((p1*100)/(R*T1))"
   ]
  },
  {
   "cell_type": "code",
   "execution_count": 3,
   "metadata": {},
   "outputs": [
    {
     "name": "stdout",
     "output_type": "stream",
     "text": [
      "Is the absolute velocity at the inlet given?: n\n",
      "Is the turbine designed at optimum condition?: y\n"
     ]
    }
   ],
   "source": [
    "# CHECKING FOR VARIOUS INLET CONDITIONS AND \n",
    "# Checking if the absolute velocity is known to the user, directly or indirectly\n",
    "import math\n",
    "inabs_vel_check = input('Is the absolute velocity at the inlet given?: ').upper()\n",
    "if inabs_vel_check == 'Y':\n",
    "    c1 = float(input('Enter the absolute velocity of the fluid at the inlet, in m/s: '))\n",
    "    c1u = (c1*(math.cos(a1)))\n",
    "    cx = (c1*(math.sin(a1))) # The axial velocity is taken to be constant throughout the stage\n",
    "    w1 = (cx/(math.sin(b1)))\n",
    "    phi = cx/u\n",
    "elif inabs_vel_check == 'N':\n",
    "    # Checking for bladespeed ratio and optimal design condition\n",
    "    opt_des_check = input('Is the turbine designed at optimum condition?: ').upper()\n",
    "    if opt_des_check == 'Y':\n",
    "        c1 = ((2*u)/(math.cos(a1)))\n",
    "        c1u = (c1*(math.cos(a1)))\n",
    "        cx = (c1*(math.sin(a1)))\n",
    "        w1 = (cx/(math.sin(b1)))\n",
    "        phi = cx/u\n",
    "    if opt_des_check == 'N':\n",
    "        j = float(input('Enter the blade speed ratio, between 0 and 1: '))\n",
    "        c1 = u/j\n",
    "        c1u = (c1*(math.cos(a1)))\n",
    "        cx = (c1*(math.sin(a1)))\n",
    "        w1 = (cx/(math.sin(b1)))\n",
    "        phi = cx/u"
   ]
  },
  {
   "cell_type": "code",
   "execution_count": 4,
   "metadata": {},
   "outputs": [
    {
     "name": "stdout",
     "output_type": "stream",
     "text": [
      "Is the flow frictionless?: y\n"
     ]
    }
   ],
   "source": [
    "# CHECKING FOR VARIOUS OUTPUT CONDITIONS\n",
    "rel_vel_check = input('Is the flow frictionless?: ').upper()\n",
    "if rel_vel_check == 'Y':\n",
    "    w2 = w1\n",
    "    b2 = (math.asin(cx/w2))\n",
    "    b2d = b2*180/pi\n",
    "    c2u = ((w2*(math.cos(b2)))-u)\n",
    "    c2 = math.hypot(cx,c2u)\n",
    "    a2 = math.acos((c2u/c2))\n",
    "    a2d = a2*180/pi\n",
    "elif rel_vel_check == 'N':\n",
    "    fd = float(input('Enter the frictional drop in the blade, in percentage: '))\n",
    "    k = 1 - (fd/100)\n",
    "    w2 = k*w1\n",
    "    b2 = (math.asin(cx/w2))\n",
    "    b2d = b2*180/pi\n",
    "    c2u = ((w2*(math.cos(b2)))-u)\n",
    "    c2 = math.hypot(cx,c2u)\n",
    "    a2 = math.acos((c2u/c2))\n",
    "    a2d = a2*180/pi"
   ]
  },
  {
   "cell_type": "code",
   "execution_count": 5,
   "metadata": {},
   "outputs": [],
   "source": [
    "# CALCULATION OF PARAMETERS\n",
    "Wt = u*(c1u+c2u)\n",
    "psi = Wt/(u*u)"
   ]
  },
  {
   "cell_type": "code",
   "execution_count": 9,
   "metadata": {},
   "outputs": [
    {
     "name": "stdout",
     "output_type": "stream",
     "text": [
      "The following are the results of the axial turbine aerothermodynamic calculations:\n",
      "1. The flow angle at the inlet is 22.0 degrees\n",
      "2. The blade angle at the inlet is 30.0 degrees\n",
      "3. The blade velocity is 130.89969389957471 m/s\n",
      "4. The flow velocity is 105.77381857844493 m/s\n",
      "5. The absolute velocity of the fluid at the inlet is 282.3597353531045 m/s\n",
      "6. The whirl velocity of the fluid at the inlet is 261.79938779914943 m/s\n",
      "7. The density of the working fluid at the turbine inlet is 1.160849563741341 kg/m^3\n",
      "8. The flow coefficient is 0.8080524516703135\n",
      "9. The flow angle at the exit is 63.68726466148784 degrees\n",
      "10. The blade angle at the exit is 29.999999999999996 degrees\n",
      "11. The absolute velocity of the fluid at the exit is 118.00004841996152 m/s\n",
      "12. The whirl velocity of the fluid at the exit is 52.30593398886478 m/s\n",
      "13. The work done by the turbine is 41116.290474278474 kJ/kg of working fluid\n",
      "14. The blade loading coefficient is 2.399587901473578\n"
     ]
    }
   ],
   "source": [
    "# PRINTING THE RESULTS\n",
    "print('The following are the results of the axial turbine aerothermodynamic calculations:')\n",
    "print(f'1. The flow angle at the inlet is {a1d} degrees')\n",
    "print(f'2. The blade angle at the inlet is {b1d} degrees')\n",
    "print(f'3. The blade velocity is {u} m/s')\n",
    "print(f'4. The flow velocity is {cx} m/s')\n",
    "print(f'5. The absolute velocity of the fluid at the inlet is {c1} m/s')\n",
    "print(f'6. The whirl velocity of the fluid at the inlet is {c1u} m/s')\n",
    "print(f'7. The density of the working fluid at the turbine inlet is {rho} kg/m^3')\n",
    "print(f'8. The flow coefficient is {phi}')\n",
    "print(f'9. The flow angle at the exit is {a2d} degrees')\n",
    "print(f'10. The blade angle at the exit is {b2d} degrees')\n",
    "print(f'11. The absolute velocity of the fluid at the exit is {c2} m/s')\n",
    "print(f'12. The whirl velocity of the fluid at the exit is {c2u} m/s')\n",
    "print(f'13. The work done by the turbine is {Wt} kJ/kg of working fluid')\n",
    "print(f'14. The blade loading coefficient is {psi}')"
   ]
  },
  {
   "cell_type": "code",
   "execution_count": null,
   "metadata": {},
   "outputs": [],
   "source": []
  }
 ],
 "metadata": {
  "kernelspec": {
   "display_name": "Python 3",
   "language": "python",
   "name": "python3"
  },
  "language_info": {
   "codemirror_mode": {
    "name": "ipython",
    "version": 3
   },
   "file_extension": ".py",
   "mimetype": "text/x-python",
   "name": "python",
   "nbconvert_exporter": "python",
   "pygments_lexer": "ipython3",
   "version": "3.7.3"
  }
 },
 "nbformat": 4,
 "nbformat_minor": 2
}
