{
 "cells": [
  {
   "cell_type": "markdown",
   "metadata": {},
   "source": [
    "THIS IS A CODE ON SINGLE STAGE AXIAL COMPRESSOR VELOCITY TRIANGLES. ALL TRIGONOMETRIC RATIOS ARE CALCULATED BY THE COMPILER IN RADIANS. OTHER VALUES ARE IN SI UNITS. INPUTS HAVE TO BE GIVEN WITH PRIOR KNOWLEDGE OF MACHINE PROPERTY RANGES. "
   ]
  },
  {
   "cell_type": "code",
   "execution_count": 1,
   "metadata": {},
   "outputs": [],
   "source": [
    "import math # Onboarding mathematical functions for calculations"
   ]
  },
  {
   "cell_type": "code",
   "execution_count": 2,
   "metadata": {},
   "outputs": [
    {
     "name": "stdout",
     "output_type": "stream",
     "text": [
      "Enter the fluid inlet pressure, in bar: 1.01325\n",
      "Enter the fluid inlet temperature, in degree C: 22\n",
      "Enter the rotational speed, in rpm: 8000\n",
      "Enter the flow inlet angle, in degrees: 26\n",
      "Enter the blade inlet angle, in degrees: 18\n",
      "Enter the blade mean dia, in cm: 40\n",
      "Enter the ratio of specific heats/adiabatic index: 1.4\n",
      "Enter the molecular weight of the gas, in kg/kmol: 28.97\n"
     ]
    }
   ],
   "source": [
    "import math # Importing mathematical operations for calculations\n",
    "from math import pi\n",
    "\n",
    "# INLET FLOW AND THERMO CONDITIONS\n",
    "p1 = float(input('Enter the fluid inlet pressure, in bar: '))\n",
    "t1 = float(input('Enter the fluid inlet temperature, in degree C: '))\n",
    "T1 = t1 + 273.15 # Conversion from Centigrade scale to Kelvin scale\n",
    "N = float(input('Enter the rotational speed, in rpm: '))\n",
    "a1d = float(input('Enter the flow inlet angle, in degrees: '))\n",
    "b1d = float(input('Enter the blade inlet angle, in degrees: '))\n",
    "a1 = a1d*pi/180\n",
    "b1 = b1d*pi/180\n",
    "D = float(input('Enter the blade mean dia, in cm: '))\n",
    "u = (pi*D*N)/6000 # Blade velocity\n",
    "y = float(input('Enter the ratio of specific heats/adiabatic index: '))\n",
    "Ru = 8.314463 # Universal gas constant in kJ/kmol-K\n",
    "Mg = float(input('Enter the molecular weight of the gas, in kg/kmol: '))\n",
    "R = Ru/Mg\n",
    "rho = ((p1*100)/(R*T1))"
   ]
  },
  {
   "cell_type": "code",
   "execution_count": 3,
   "metadata": {},
   "outputs": [
    {
     "name": "stdout",
     "output_type": "stream",
     "text": [
      "Is the absolute velocity at the inlet given?: n\n",
      "Is the axial velocity explicitly given?: n\n",
      "Is the mass flow rate of the given?: y\n",
      "Enter the mass flow rate of working fluid through the compressor, in kg/s: 15\n"
     ]
    }
   ],
   "source": [
    "# CHECKING FOR VARIOUS INLET AERO CONDITIONS\n",
    "# Check if the absolute velocity at the inlet is known to the user\n",
    "import math\n",
    "inabs_vel_check = input('Is the absolute velocity at the inlet given?: ').upper()\n",
    "if inabs_vel_check == 'Y':\n",
    "    c1 = float(input('Enter the absolute velocity of the fluid at the inlet, in m/s: '))\n",
    "    # It is an axial compressor, so axial velocity is same at inlet and outlet\n",
    "    cx = (c1*(math.cos(a1)))\n",
    "    c1u = (c1*(math.sin(a1)))\n",
    "    w1 = (cx/(math.cos(b1)))\n",
    "    w1u = u - c1u\n",
    "    #Calculate relative Mach number at the inlet\n",
    "    Mw1 = w1/((y*R*T1)**0.5)\n",
    "    phi = cx/u # Flow coefficient\n",
    "elif inabs_vel_check == 'N':\n",
    "    ax_vel_check = input('Is the axial velocity explicitly given?: ').upper() # Checks if the axial/flow velocity is known\n",
    "    if ax_vel_check == 'Y':\n",
    "        cx = float(input('Enter the axial velocity, in m/s: '))\n",
    "        c1u = (cx/(math.tan(a1)))\n",
    "        c1 = math.hypot(cx,c1u)\n",
    "        w1 = (cx/(math.cos(b1)))\n",
    "        w1u = u - c1u\n",
    "        Mw1 = w1/((y*R*T1)**0.5)\n",
    "        phi = cx/u\n",
    "    elif ax_vel_check == 'N':\n",
    "        # Checking if the mass flow rate of the fluid is known to the user\n",
    "        mass_flow_check = input('Is the mass flow rate of the given?: ').upper()\n",
    "        if mass_flow_check == 'Y':\n",
    "            m = float(input('Enter the mass flow rate of working fluid through the compressor, in kg/s: '))\n",
    "            cx = ((2500*m)/(rho*pi*D*D))\n",
    "            c1u = (cx/(math.tan(a1)))\n",
    "            c1 = math.hypot(cx,c1u)\n",
    "            w1 = (cx/(math.cos(b1)))\n",
    "            w1u = u - c1u\n",
    "            Mw1 = w1/((y*R*T1)**0.5)\n",
    "            phi = cx/u\n",
    "        elif mass_flow_check == 'N':\n",
    "            c1u = float(input('Enter the whirl velocity of the fluid at the inlet, in m/s: '))\n",
    "            cx = (c1u*(math.tan(a1)))\n",
    "            c1 = math.hypot(cx,c1u)\n",
    "            w1 = (cx/(math.cos(b1)))\n",
    "            w1u = u - c1u\n",
    "            Mw1 = w1/((y*R*T1)**0.5)\n",
    "            phi = cx/u"
   ]
  },
  {
   "cell_type": "code",
   "execution_count": 4,
   "metadata": {},
   "outputs": [
    {
     "name": "stdout",
     "output_type": "stream",
     "text": [
      "Do you have the compressor work input?: n\n",
      "Do you know the degree of reaction?: n\n",
      "Enter the exit blade angle, in degrees: 13\n"
     ]
    }
   ],
   "source": [
    "# CHECK FOR VARIOUS OUTLET AERO CONDITIONS\n",
    "# Check if the work done by the compressor is known to the user\n",
    "import math\n",
    "pow_check = input('Do you have the compressor work input?: ').upper()\n",
    "if pow_check == 'Y':\n",
    "    Wc = float(input('Enter the work input to the compressor, in kJ/kg: '))\n",
    "    c2u = c1u + (Wc/u)\n",
    "    c2 = math.hypot(cx,c2u)\n",
    "    w2u = u - c2u\n",
    "    w2 = math.hypot(cx,w2u)\n",
    "    b2 = math.atan((w2u/cx))\n",
    "    b2d = b2*180/pi # Converting exit angles from radians to degrees\n",
    "    a2 = math.atan((c2u/cx))\n",
    "    a2d = a2*180/pi\n",
    "elif pow_check == 'N':\n",
    "    # Check if exit blade angle is obtainable from the user\n",
    "    deg_reac_check = input('Do you know the degree of reaction?: ').upper()\n",
    "    if deg_reac_check == 'Y':\n",
    "        deg_reac = float(input('Enter the degree of reaction: '))\n",
    "        h = ((1-(2*deg_reac))/phi)\n",
    "        b2 = math.atan(((math.tan(a1)-h)))\n",
    "        b2d = b2*180/pi\n",
    "        w2 = (cx/(math.cos(b2)))\n",
    "        w2u = (w2*(math.sin(b2)))\n",
    "        c2u = u - w2u\n",
    "        a2 = math.atan((c2u/cx))\n",
    "        a2d = a2*180/pi\n",
    "        c2 = math.hypot(cx,c2u)\n",
    "        Wc = (u*(c2u-c1u))\n",
    "    elif deg_reac_check == 'N':\n",
    "        b2d = float(input('Enter the exit blade angle, in degrees: '))\n",
    "        b2 = b2d*pi/180\n",
    "        w2 = (cx/(math.cos(b2)))\n",
    "        w2u = (w2*(math.sin(b2)))\n",
    "        c2u = u - w2u\n",
    "        a2 = math.atan((c2u/cx))\n",
    "        a2d = a2*180/pi\n",
    "        c2 = math.hypot(cx,c2u)\n",
    "        Wc = (u*(c2u-c1u))"
   ]
  },
  {
   "cell_type": "code",
   "execution_count": 7,
   "metadata": {},
   "outputs": [],
   "source": [
    "# CALCULATING OTHER AEROTHERMODYNAMIC PARAMETERS\n",
    "deg_reac = 0.5 - (0.5*phi*(math.tan(a1)-math.tan(b2)))\n",
    "psi = Wc/(rho*u*u)\n",
    "p2 = p1 + (0.001*(rho*Wc))\n",
    "rp = p2/p1\n",
    "z = (y-1)/y\n",
    "T2 = T1 * (rp**z)\n",
    "t2 = T2 - 273.15"
   ]
  },
  {
   "cell_type": "code",
   "execution_count": 8,
   "metadata": {},
   "outputs": [
    {
     "name": "stdout",
     "output_type": "stream",
     "text": [
      "The following are the results of the single stage axial compressor aerothermodynamic calculations:\n",
      "1. The flow angle at the inlet is 26.0 degrees\n",
      "2. The blade angle at the inlet is 18.0 degrees\n",
      "3. The blade velocity is 167.55160819145564 m/s\n",
      "4. The flow velocity is 6.23696486213274 m/s\n",
      "5. The absolute velocity of the fluid at the inlet is 14.227589812460124 m/s\n",
      "6. The whirl velocity of the fluid at the inlet is 12.787673016625842 m/s\n",
      "7. The density of the working fluid at the compressor inlet is 1.1961568042058046 kg/m^3\n",
      "8. The relative Mach number at the compressor inlet is 0.6021971631054082\n",
      "9. The flow coefficient is 0.03722414203870826\n",
      "10. The flow angle at the exit is 87.84973607011649 degrees\n",
      "11. The blade angle at the exit is 13.0 degrees\n",
      "12. The absolute velocity of the fluid at the exit is 166.22873923905465 m/s\n",
      "13. The whirl velocity of the fluid at the exit is 166.11169139562136 m/s\n",
      "14. The work input to the compressor is 25689.685853777002 kJ/kg of working fluid\n",
      "15. The pressure ratio across the stage is 31.327059000152943\n",
      "16. The blade loading coefficient is 0.7650212121206316\n",
      "17. The exit pressure and temperature of air are 31.742142531904967 bar and 516.5250102295541 degree C\n",
      "18. Low reaction stage. Degree of reaction is 0.49521922159249754\n"
     ]
    }
   ],
   "source": [
    "# PRINTING ALL THE RESULTS TO THE USER. SOME DATA MAY REPEAT\n",
    "print('The following are the results of the single stage axial compressor aerothermodynamic calculations:')\n",
    "print(f'1. The flow angle at the inlet is {a1d} degrees')\n",
    "print(f'2. The blade angle at the inlet is {b1d} degrees')\n",
    "print(f'3. The blade velocity is {u} m/s')\n",
    "print(f'4. The flow velocity is {cx} m/s')\n",
    "print(f'5. The absolute velocity of the fluid at the inlet is {c1} m/s')\n",
    "print(f'6. The whirl velocity of the fluid at the inlet is {c1u} m/s')\n",
    "print(f'7. The density of the working fluid at the compressor inlet is {rho} kg/m^3')\n",
    "print(f'8. The relative Mach number at the compressor inlet is {Mw1}')\n",
    "print(f'9. The flow coefficient is {phi}')\n",
    "print(f'10. The flow angle at the exit is {a2d} degrees')\n",
    "print(f'11. The blade angle at the exit is {b2d} degrees')\n",
    "print(f'12. The absolute velocity of the fluid at the exit is {c2} m/s')\n",
    "print(f'13. The whirl velocity of the fluid at the exit is {c2u} m/s')\n",
    "print(f'14. The work input to the compressor is {Wc} kJ/kg of working fluid')\n",
    "print(f'15. The pressure ratio across the stage is {rp}')\n",
    "print(f'16. The blade loading coefficient is {psi}')\n",
    "print(f'17. The exit pressure and temperature of air are {p2} bar and {t2} degree C')\n",
    "if w1u < c2u:\n",
    "    print(f'18. Low reaction stage. Degree of reaction is {deg_reac}')\n",
    "elif w1u == c2u:\n",
    "    print(f'18. 50% reaction stage. Degree of reaction is {deg_reac}')\n",
    "elif w1u > c2u:\n",
    "    print(f'18. High reaction stage. Degree of reaction is {deg_reac}')"
   ]
  },
  {
   "cell_type": "code",
   "execution_count": null,
   "metadata": {},
   "outputs": [],
   "source": []
  }
 ],
 "metadata": {
  "kernelspec": {
   "display_name": "Python 3",
   "language": "python",
   "name": "python3"
  },
  "language_info": {
   "codemirror_mode": {
    "name": "ipython",
    "version": 3
   },
   "file_extension": ".py",
   "mimetype": "text/x-python",
   "name": "python",
   "nbconvert_exporter": "python",
   "pygments_lexer": "ipython3",
   "version": "3.7.3"
  }
 },
 "nbformat": 4,
 "nbformat_minor": 2
}
